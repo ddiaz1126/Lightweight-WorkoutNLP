{
 "cells": [
  {
   "cell_type": "code",
   "execution_count": 27,
   "metadata": {},
   "outputs": [],
   "source": [
    "import functions as fn\n",
    "import json\n",
    "import pandas as pd\n",
    "import re"
   ]
  },
  {
   "cell_type": "code",
   "execution_count": 33,
   "metadata": {},
   "outputs": [
    {
     "name": "stdout",
     "output_type": "stream",
     "text": [
      "Example 1:\n",
      "Superset\n",
      "Pulldown 4x10 @120lbs 2RIR\n",
      "Lunges 3x20 @30lbs 1RIR\n",
      "Bench Press 4x8 8RPE\n",
      "Circuit\n",
      "Push Ups 3x12,15,17 22RIR\n",
      "Sit Ups 3x20 0RPE\n",
      "Jump Rope 3x30sec\n",
      "----------------------------------------\n",
      "Example 2:\n",
      "Superset\n",
      "Squat 3x12 @150lbs 2RIR\n",
      "Overhead Press 3x10 @60lbs 1RIR\n",
      "----------------------------------------\n"
     ]
    }
   ],
   "source": [
    "# Import Example Prompts\n",
    "with open('example_prompts.txt', 'r') as f:\n",
    "    content = f.read()\n",
    "\n",
    "# Split by the marker \"# Example\" (case-insensitive)\n",
    "examples = re.split(r'#\\s*Example\\s*\\d*', content, flags=re.IGNORECASE)\n",
    "\n",
    "# Remove empty strings and strip whitespace\n",
    "examples = [ex.strip() for ex in examples if ex.strip()]\n",
    "\n",
    "# Now you have a list of prompts, each as a string\n",
    "for i, example in enumerate(examples, 1):\n",
    "    print(f\"Example {i}:\\n{example}\\n{'-'*40}\")"
   ]
  },
  {
   "cell_type": "code",
   "execution_count": 29,
   "metadata": {},
   "outputs": [],
   "source": [
    "# Import Exercise Library\n",
    "exerciseLibrary = pd.read_csv(\"ExerciseLibrary.csv\")\n",
    "\n",
    "alias_data = exerciseLibrary.to_dict(orient='records')"
   ]
  },
  {
   "cell_type": "code",
   "execution_count": 40,
   "metadata": {},
   "outputs": [
    {
     "data": {
      "text/plain": [
       "{'workout_data': {'pulldown': {'id': 339,\n",
       "   'raw_name': 'pulldown',\n",
       "   'top_matches': [{'name': 'Band Lat Pulldown', 'id': 339, 'score': 0.64},\n",
       "    {'name': 'Cable Lat Pulldown', 'id': 333, 'score': 0.62}],\n",
       "   'set_structure': 1,\n",
       "   'group_id': 1,\n",
       "   'details': {'sets': 4,\n",
       "    'reps': [10],\n",
       "    'weight': [120],\n",
       "    'rir': 2,\n",
       "    'rir_or_rpe': 0,\n",
       "    'rest': None,\n",
       "    'weight_unit': 0}},\n",
       "  'lunges': {'id': 182,\n",
       "   'raw_name': 'lunges',\n",
       "   'top_matches': [{'name': 'Barbell Lunges', 'id': 182, 'score': 0.6}],\n",
       "   'set_structure': 1,\n",
       "   'group_id': 1,\n",
       "   'details': {'sets': 3,\n",
       "    'reps': [20],\n",
       "    'weight': [30],\n",
       "    'rir': 1,\n",
       "    'rir_or_rpe': 0,\n",
       "    'rest': None,\n",
       "    'weight_unit': 0}},\n",
       "  'bench press': {'id': 121,\n",
       "   'raw_name': 'bench press',\n",
       "   'top_matches': [{'name': 'Band Chest Press', 'id': 121, 'score': 0.74},\n",
       "    {'name': 'Barbell Bench Press', 'id': 93, 'score': 0.73},\n",
       "    {'name': 'Bench Jumps', 'id': 505, 'score': 0.73}],\n",
       "   'set_structure': 1,\n",
       "   'group_id': 1,\n",
       "   'details': {'sets': 4,\n",
       "    'reps': [88],\n",
       "    'weight': None,\n",
       "    'rir': 8,\n",
       "    'rir_or_rpe': 1,\n",
       "    'rest': None,\n",
       "    'weight_unit': 0}},\n",
       "  'push ups': {'id': 104,\n",
       "   'raw_name': 'push ups',\n",
       "   'top_matches': [{'name': 'Push Ups', 'id': 104, 'score': 1.0}],\n",
       "   'set_structure': 2,\n",
       "   'group_id': 3,\n",
       "   'details': {'sets': 3,\n",
       "    'reps': [12, 15, 1722],\n",
       "    'weight': None,\n",
       "    'rir': 22,\n",
       "    'rir_or_rpe': 0,\n",
       "    'rest': None,\n",
       "    'weight_unit': 0}},\n",
       "  'sit ups': {'id': 11,\n",
       "   'raw_name': 'sit ups',\n",
       "   'top_matches': [{'name': 'Sit Ups', 'id': 11, 'score': 1.0}],\n",
       "   'set_structure': 2,\n",
       "   'group_id': 3,\n",
       "   'details': {'sets': 3,\n",
       "    'reps': [200],\n",
       "    'weight': None,\n",
       "    'rir': 0,\n",
       "    'rir_or_rpe': 1,\n",
       "    'rest': None,\n",
       "    'weight_unit': 0}},\n",
       "  'jump rope': {'id': 445,\n",
       "   'raw_name': 'jump rope',\n",
       "   'top_matches': [{'name': 'Jump Rope', 'id': 445, 'score': 1.0}],\n",
       "   'set_structure': 2,\n",
       "   'group_id': 3,\n",
       "   'details': {'sets': 3,\n",
       "    'reps': [30],\n",
       "    'weight': None,\n",
       "    'rir': None,\n",
       "    'rir_or_rpe': 0,\n",
       "    'rest': '30s',\n",
       "    'weight_unit': 0}}}}"
      ]
     },
     "execution_count": 40,
     "metadata": {},
     "output_type": "execute_result"
    }
   ],
   "source": [
    "# Test on First Example\n",
    "first_example = examples[0] \n",
    "\n",
    "result_1 = fn.interpret_workout(first_example, alias_data)\n",
    "\n",
    "result_1"
   ]
  },
  {
   "cell_type": "code",
   "execution_count": 42,
   "metadata": {},
   "outputs": [
    {
     "data": {
      "text/plain": [
       "{'workout_data': {'squat': {'id': 185,\n",
       "   'raw_name': 'squat',\n",
       "   'top_matches': [{'name': 'TRX Squats', 'id': 185, 'score': 0.67}],\n",
       "   'set_structure': 1,\n",
       "   'group_id': 1,\n",
       "   'details': {'sets': 3,\n",
       "    'reps': [12],\n",
       "    'weight': [150],\n",
       "    'rir': 2,\n",
       "    'rir_or_rpe': 0,\n",
       "    'rest': None,\n",
       "    'weight_unit': 0}},\n",
       "  'overhead press': {'id': 385,\n",
       "   'raw_name': 'overhead press',\n",
       "   'top_matches': [{'name': 'Overhead Holds', 'id': 385, 'score': 0.71}],\n",
       "   'set_structure': 1,\n",
       "   'group_id': 1,\n",
       "   'details': {'sets': 3,\n",
       "    'reps': [10],\n",
       "    'weight': [60],\n",
       "    'rir': 1,\n",
       "    'rir_or_rpe': 0,\n",
       "    'rest': None,\n",
       "    'weight_unit': 0}}}}"
      ]
     },
     "execution_count": 42,
     "metadata": {},
     "output_type": "execute_result"
    }
   ],
   "source": [
    "# Test on Second Example\n",
    "second_example = examples[1] \n",
    "\n",
    "result_2 = fn.interpret_workout(second_example, alias_data)\n",
    "\n",
    "result_2"
   ]
  }
 ],
 "metadata": {
  "kernelspec": {
   "display_name": "hr_env",
   "language": "python",
   "name": "python3"
  },
  "language_info": {
   "codemirror_mode": {
    "name": "ipython",
    "version": 3
   },
   "file_extension": ".py",
   "mimetype": "text/x-python",
   "name": "python",
   "nbconvert_exporter": "python",
   "pygments_lexer": "ipython3",
   "version": "3.13.3"
  },
  "orig_nbformat": 4
 },
 "nbformat": 4,
 "nbformat_minor": 2
}
